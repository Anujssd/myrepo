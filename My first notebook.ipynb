{
 "cells": [
  {
   "cell_type": "code",
   "execution_count": 1,
   "id": "550ff13d",
   "metadata": {},
   "outputs": [
    {
     "name": "stdout",
     "output_type": "stream",
     "text": [
      "Hello world!\n"
     ]
    }
   ],
   "source": [
    "print(\"Hello world!\")"
   ]
  },
  {
   "cell_type": "code",
   "execution_count": 2,
   "id": "d599ab7c",
   "metadata": {},
   "outputs": [
    {
     "name": "stdout",
     "output_type": "stream",
     "text": [
      "Hi i am Anuj Sisodia. How are you?\n"
     ]
    }
   ],
   "source": [
    "print(\"Hi i am Anuj Sisodia. How are you?\")"
   ]
  },
  {
   "cell_type": "code",
   "execution_count": 3,
   "id": "f63b8385",
   "metadata": {},
   "outputs": [
    {
     "name": "stdout",
     "output_type": "stream",
     "text": [
      "Hi this time, i am using single quote\n"
     ]
    }
   ],
   "source": [
    "print('Hi this time, i am using single quote')"
   ]
  },
  {
   "cell_type": "code",
   "execution_count": 4,
   "id": "b2d73d10",
   "metadata": {},
   "outputs": [
    {
     "name": "stdout",
     "output_type": "stream",
     "text": [
      "10\n"
     ]
    }
   ],
   "source": [
    "x=10\n",
    "y=5\n",
    "print(x)"
   ]
  },
  {
   "cell_type": "code",
   "execution_count": 5,
   "id": "f7895c62",
   "metadata": {},
   "outputs": [
    {
     "name": "stdout",
     "output_type": "stream",
     "text": [
      "5\n"
     ]
    }
   ],
   "source": [
    "x=10\n",
    "y=5\n",
    "print(y)"
   ]
  },
  {
   "cell_type": "code",
   "execution_count": 6,
   "id": "04ad27b7",
   "metadata": {},
   "outputs": [
    {
     "name": "stdout",
     "output_type": "stream",
     "text": [
      "10\n"
     ]
    }
   ],
   "source": [
    "print(x)"
   ]
  },
  {
   "cell_type": "code",
   "execution_count": 7,
   "id": "b90cbcf7",
   "metadata": {},
   "outputs": [
    {
     "name": "stdout",
     "output_type": "stream",
     "text": [
      "15\n"
     ]
    }
   ],
   "source": [
    "print(x+y)"
   ]
  },
  {
   "cell_type": "code",
   "execution_count": 8,
   "id": "7fe3cf4b",
   "metadata": {},
   "outputs": [
    {
     "name": "stdout",
     "output_type": "stream",
     "text": [
      "50\n"
     ]
    }
   ],
   "source": [
    "print(x*y)"
   ]
  },
  {
   "cell_type": "code",
   "execution_count": 9,
   "id": "2e7a201c",
   "metadata": {},
   "outputs": [
    {
     "name": "stdout",
     "output_type": "stream",
     "text": [
      "50\n"
     ]
    }
   ],
   "source": [
    "z=x*y\n",
    "print(z)"
   ]
  },
  {
   "cell_type": "code",
   "execution_count": 15,
   "id": "a87341f4",
   "metadata": {},
   "outputs": [
    {
     "name": "stdout",
     "output_type": "stream",
     "text": [
      "sum of x & y= 15\n"
     ]
    }
   ],
   "source": [
    "print(\"sum of x & y=\",x+y)"
   ]
  },
  {
   "cell_type": "code",
   "execution_count": 17,
   "id": "f0ef4ce6",
   "metadata": {},
   "outputs": [
    {
     "name": "stdout",
     "output_type": "stream",
     "text": [
      "The value of x & y are 10 & 5 respectively.\n"
     ]
    }
   ],
   "source": [
    "print(\"The value of x & y are\",x,\"&\",y,\"respectively.\")"
   ]
  },
  {
   "cell_type": "code",
   "execution_count": 18,
   "id": "672021c1",
   "metadata": {},
   "outputs": [
    {
     "name": "stdout",
     "output_type": "stream",
     "text": [
      "Multiplication of x & y is 50\n"
     ]
    }
   ],
   "source": [
    "print(\"Multiplication of x & y is\",x*y)"
   ]
  },
  {
   "cell_type": "code",
   "execution_count": 19,
   "id": "eaeb5285",
   "metadata": {},
   "outputs": [
    {
     "name": "stdout",
     "output_type": "stream",
     "text": [
      "15\n"
     ]
    }
   ],
   "source": [
    "x=5\n",
    "y=10\n",
    "z=15\n",
    "print(z)"
   ]
  },
  {
   "cell_type": "code",
   "execution_count": 21,
   "id": "dea44f9f",
   "metadata": {},
   "outputs": [
    {
     "name": "stdout",
     "output_type": "stream",
     "text": [
      "The sum of x,y & z is 30\n"
     ]
    }
   ],
   "source": [
    "print(\"The sum of x,y & z is\",x+y+z)"
   ]
  },
  {
   "cell_type": "code",
   "execution_count": 22,
   "id": "2cabfdc7",
   "metadata": {},
   "outputs": [
    {
     "name": "stdout",
     "output_type": "stream",
     "text": [
      "The values of x,y & z are 5 10 & 15 respectively\n"
     ]
    }
   ],
   "source": [
    "print(\"The values of x,y & z are\",x,y,\"&\",z,\"respectively\")"
   ]
  },
  {
   "cell_type": "code",
   "execution_count": 23,
   "id": "8bb4174a",
   "metadata": {},
   "outputs": [
    {
     "name": "stdout",
     "output_type": "stream",
     "text": [
      "The sum of x,y & subration with z is 0\n"
     ]
    }
   ],
   "source": [
    "print(\"The sum of x,y & subration with z is\",x+y-z)"
   ]
  },
  {
   "cell_type": "code",
   "execution_count": 24,
   "id": "e690825c",
   "metadata": {},
   "outputs": [
    {
     "name": "stdout",
     "output_type": "stream",
     "text": [
      "The product of x,y & z is 750\n"
     ]
    }
   ],
   "source": [
    "print(\"The product of x,y & z is\",x*y*z)"
   ]
  },
  {
   "cell_type": "code",
   "execution_count": null,
   "id": "8e271e6c",
   "metadata": {},
   "outputs": [],
   "source": [
    "print"
   ]
  }
 ],
 "metadata": {
  "kernelspec": {
   "display_name": "Python 3 (ipykernel)",
   "language": "python",
   "name": "python3"
  },
  "language_info": {
   "codemirror_mode": {
    "name": "ipython",
    "version": 3
   },
   "file_extension": ".py",
   "mimetype": "text/x-python",
   "name": "python",
   "nbconvert_exporter": "python",
   "pygments_lexer": "ipython3",
   "version": "3.9.12"
  }
 },
 "nbformat": 4,
 "nbformat_minor": 5
}
